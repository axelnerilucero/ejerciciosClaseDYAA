{
  "nbformat": 4,
  "nbformat_minor": 0,
  "metadata": {
    "colab": {
      "name": "EDD_BigO_1511.ipynb",
      "provenance": [],
      "collapsed_sections": [],
      "include_colab_link": true
    },
    "kernelspec": {
      "name": "python3",
      "display_name": "Python 3"
    },
    "language_info": {
      "name": "python"
    }
  },
  "cells": [
    {
      "cell_type": "markdown",
      "metadata": {
        "id": "view-in-github",
        "colab_type": "text"
      },
      "source": [
        "<a href=\"https://colab.research.google.com/github/axelnerilucero/ejerciciosClaseDYAA/blob/main/EDD_BigO_1511.ipynb\" target=\"_parent\"><img src=\"https://colab.research.google.com/assets/colab-badge.svg\" alt=\"Open In Colab\"/></a>"
      ]
    },
    {
      "cell_type": "markdown",
      "metadata": {
        "id": "PSwb6-wvKyxe"
      },
      "source": [
        "#Arbol binario de busqueda"
      ]
    },
    {
      "cell_type": "code",
      "metadata": {
        "id": "mhVl5L5CK6YY"
      },
      "source": [
        "class nodoArbol:\n",
        "  def __init__( self, value, left=None, right=None):\n",
        "    self.data = value\n",
        "    self.left = left\n",
        "    self.right = right\n",
        "\n",
        "class arbolBB:\n",
        "  def __init__(self):\n",
        "    pass\n",
        "    #Pausa para comprender el uso de nodo arbol"
      ],
      "execution_count": null,
      "outputs": []
    },
    {
      "cell_type": "code",
      "metadata": {
        "id": "OJKRAhtbPYVA"
      },
      "source": [
        ""
      ],
      "execution_count": null,
      "outputs": []
    },
    {
      "cell_type": "code",
      "metadata": {
        "colab": {
          "base_uri": "https://localhost:8080/"
        },
        "id": "A5mVldEfL-VO",
        "outputId": "de46e143-b706-43a3-eca7-6f7e065a1137"
      },
      "source": [
        "raiz = nodoArbol(60,nodoArbol(40,None,None),None)\n",
        "raiz.left = nodoArbol(40,None,None)\n",
        "print(raiz.left.data)\n",
        "\n",
        "print(raiz.left.data)\n",
        "\n",
        "raiz = nodoArbol(60,nodoArbol(40,nodoArbol(30,None,None),None),nodoArbol(70,None,None))\n",
        "print(raiz.left.left.data)"
      ],
      "execution_count": null,
      "outputs": [
        {
          "output_type": "stream",
          "name": "stdout",
          "text": [
            "40\n",
            "40\n",
            "30\n"
          ]
        }
      ]
    }
  ]
}