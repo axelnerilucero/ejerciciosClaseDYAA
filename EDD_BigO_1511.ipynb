{
  "nbformat": 4,
  "nbformat_minor": 0,
  "metadata": {
    "colab": {
      "name": "EDD_BigO_1511.ipynb",
      "provenance": [],
      "collapsed_sections": [],
      "include_colab_link": true
    },
    "kernelspec": {
      "name": "python3",
      "display_name": "Python 3"
    },
    "language_info": {
      "name": "python"
    }
  },
  "cells": [
    {
      "cell_type": "markdown",
      "metadata": {
        "id": "view-in-github",
        "colab_type": "text"
      },
      "source": [
        "<a href=\"https://colab.research.google.com/github/axelnerilucero/ejerciciosClaseDYAA/blob/main/EDD_BigO_1511.ipynb\" target=\"_parent\"><img src=\"https://colab.research.google.com/assets/colab-badge.svg\" alt=\"Open In Colab\"/></a>"
      ]
    },
    {
      "cell_type": "markdown",
      "metadata": {
        "id": "PSwb6-wvKyxe"
      },
      "source": [
        "#Arbol binario de busqueda"
      ]
    },
    {
      "cell_type": "code",
      "metadata": {
        "id": "mhVl5L5CK6YY"
      },
      "source": [
        "class nodoArbol:\n",
        "  def __init__( self, value, left=None, right=None):\n",
        "    self.data = value\n",
        "    self.left = left\n",
        "    self.right = right\n",
        "\n",
        "class arbolBB:\n",
        "  def __init__(self):\n",
        "    self.__root = None\n",
        "  \n",
        "  def insert(self, value):\n",
        "    if self.__root == None:\n",
        "      self.__root = nodoArbol(value)\n",
        "    else: \n",
        "      self.__insert_nodo__(self.__root, value)\n",
        "    \n",
        "  def __insert_nodo__(self, nodo, value):\n",
        "    if nodo.data == value:\n",
        "      print(\"ya existe\")\n",
        "      pass\n",
        "    elif value < nodo.data:\n",
        "      if nodo.left == None:\n",
        "        nodo.left = nodoArbol(value)\n",
        "      else:\n",
        "        self.__insert_nodo__(nodo.left, value)\n",
        "    else:\n",
        "      if nodo.right == None:\n",
        "        nodo.right = nodoArbol(value)\n",
        "      else:\n",
        "        self.__insert_nodo__(nodo.right, value)\n",
        "\n",
        "  def transversal(self, formato = \"inorden\"):\n",
        "    if formato == \"inorden\":\n",
        "      self.recorrido_in(self.__root)\n",
        "      print(\"recorrido in\")\n",
        "    elif formato == \"preorden\":\n",
        "      self.recorrido_pre(self.__root)\n",
        "      print(\"recorrido pre\")\n",
        "    else: #Post\n",
        "      self.recorrido_pos(self.__root)\n",
        "      print(\"recorrido pos\")\n",
        "\n",
        "  def recorrido_in(self, nodo):\n",
        "    if nodo != None:\n",
        "      self.recorrido_in(nodo.left)\n",
        "      print(nodo.data, end=\"  \")\n",
        "      self.recorrido_in(nodo.right)\n",
        "\n",
        "  def recorrido_pre(self, nodo):\n",
        "    if nodo != None:\n",
        "      print(nodo.data, end=\"  \")\n",
        "      self.recorrido_pre(nodo.left)\n",
        "      self.recorrido_pre(nodo.right)\n",
        "\n",
        "  def recorrido_pos(self, nodo):\n",
        "    if nodo != None:\n",
        "      self.recorrido_pos(nodo.left)\n",
        "      self.recorrido_pos(nodo.right)\n",
        "      print(nodo.data, end=\"  \")\n",
        "\n",
        "  \"\"\"\n",
        "  def busqueda(self, valorab):\n",
        "    nodo = self.__root\n",
        "    if nodo != valorab:\n",
        "      self.busqueda(nodo.left)\n",
        "      if nodo == valorab:\n",
        "        pribt(nodo.data)\n",
        "      self.busqueda(nodo.right)\n",
        "      \"\"\"\n",
        "  def buscar(self, value):\n",
        "    if self.__root == None:\n",
        "      print(\"Arbol vacio\")\n",
        "      return None\n",
        "    else:\n",
        "      return self.busca_nodo(self.__root, value)\n",
        "    \n",
        "  def busca_nodo(self, nodo, value):\n",
        "    if nodo == None:\n",
        "      print(\"no existe\")\n",
        "      return \"no existe el valor\"\n",
        "    elif nodo.data == value:\n",
        "      print(\"Encontrado\", nodo.data)\n",
        "      return nodo.data\n",
        "    elif value < nodo.data:\n",
        "      #print(\"Buscar del lado izquierdo\")\n",
        "      return self.busca_nodo(nodo.left, value)\n",
        "    else:\n",
        "      #print(\"buscar del lado derecho\")\n",
        "      return self.busca_nodo(nodo.right, value)\n",
        "\n",
        "#tarea, hacer e l deldelete\n",
        "#hijo mas pequeño del lado derecho\n",
        "#o el mas grandel del izquierdo\n",
        "    "
      ],
      "execution_count": 25,
      "outputs": []
    },
    {
      "cell_type": "code",
      "metadata": {
        "colab": {
          "base_uri": "https://localhost:8080/",
          "height": 299
        },
        "id": "dIlhsBBcbGBj",
        "outputId": "5aca3076-2ffd-422b-b078-f238144aa683"
      },
      "source": [
        "abb = arbolBB()\n",
        "\n",
        "abb.insert(6)\n",
        "abb.insert(3)\n",
        "abb.insert(8)\n",
        "abb.insert(55)\n",
        "abb.insert(14)\n",
        "abb.insert(27)\n",
        "abb.insert(15)\n",
        "abb.insert(21)\n",
        "abb.insert(80)\n",
        "abb.insert(27)\n",
        "\"\"\"\n",
        "abb.insert(50)\n",
        "abb.insert(25)\n",
        "abb.insert(30)\n",
        "abb.insert(10)\n",
        "abb.insert(60)\n",
        "abb.insert(5)\n",
        "abb.insert(15)\n",
        "abb.insert(28)\n",
        "abb.insert(31)\n",
        "\"\"\"\n",
        "abb.transversal(\"inorden\")\n",
        "abb.transversal(\"posorden\")\n",
        "abb.transversal(\"preorden\")\n",
        "res = abb.buscar(8)\n",
        "print(\"Resultado\", res.left)\n",
        "\n"
      ],
      "execution_count": 27,
      "outputs": [
        {
          "output_type": "stream",
          "name": "stdout",
          "text": [
            "ya existe\n",
            "3  6  8  14  15  21  27  55  80  recorrido in\n",
            "3  21  15  27  14  80  55  8  6  recorrido pos\n",
            "6  3  8  55  14  27  15  21  80  recorrido pre\n",
            "Encontrado 8\n"
          ]
        },
        {
          "output_type": "error",
          "ename": "AttributeError",
          "evalue": "ignored",
          "traceback": [
            "\u001b[0;31m---------------------------------------------------------------------------\u001b[0m",
            "\u001b[0;31mAttributeError\u001b[0m                            Traceback (most recent call last)",
            "\u001b[0;32m<ipython-input-27-11132a1577af>\u001b[0m in \u001b[0;36m<module>\u001b[0;34m()\u001b[0m\n\u001b[1;32m     26\u001b[0m \u001b[0mabb\u001b[0m\u001b[0;34m.\u001b[0m\u001b[0mtransversal\u001b[0m\u001b[0;34m(\u001b[0m\u001b[0;34m\"preorden\"\u001b[0m\u001b[0;34m)\u001b[0m\u001b[0;34m\u001b[0m\u001b[0;34m\u001b[0m\u001b[0m\n\u001b[1;32m     27\u001b[0m \u001b[0mres\u001b[0m \u001b[0;34m=\u001b[0m \u001b[0mabb\u001b[0m\u001b[0;34m.\u001b[0m\u001b[0mbuscar\u001b[0m\u001b[0;34m(\u001b[0m\u001b[0;36m8\u001b[0m\u001b[0;34m)\u001b[0m\u001b[0;34m\u001b[0m\u001b[0;34m\u001b[0m\u001b[0m\n\u001b[0;32m---> 28\u001b[0;31m \u001b[0mprint\u001b[0m\u001b[0;34m(\u001b[0m\u001b[0;34m\"Resultado\"\u001b[0m\u001b[0;34m,\u001b[0m \u001b[0mres\u001b[0m\u001b[0;34m.\u001b[0m\u001b[0mleft\u001b[0m\u001b[0;34m)\u001b[0m\u001b[0;34m\u001b[0m\u001b[0;34m\u001b[0m\u001b[0m\n\u001b[0m\u001b[1;32m     29\u001b[0m \u001b[0;34m\u001b[0m\u001b[0m\n",
            "\u001b[0;31mAttributeError\u001b[0m: 'int' object has no attribute 'left'"
          ]
        }
      ]
    },
    {
      "cell_type": "code",
      "metadata": {
        "colab": {
          "base_uri": "https://localhost:8080/"
        },
        "id": "A5mVldEfL-VO",
        "outputId": "290f7b5c-a23f-455a-d5d9-198670cb83df"
      },
      "source": [
        "raiz = nodoArbol(60,nodoArbol(40,None,None),None)\n",
        "raiz.left = nodoArbol(40,None,None)\n",
        "print(raiz.left.data)\n",
        "\n",
        "print(raiz.left.data)\n",
        "\n",
        "raiz = nodoArbol(60,nodoArbol(40,nodoArbol(30,None,None),None),nodoArbol(70,None,None))\n",
        "print(raiz.left.left.data)\n",
        "\n",
        "#Imprimir el hijo mas a la izquierda\n",
        "print(\"Imprimir recorriendo primero la rama izquierda\")\n",
        "curr_node = raiz\n",
        "while curr_node.left != None:\n",
        "  curr_node =curr_node.left\n",
        "print(curr_node.data)"
      ],
      "execution_count": null,
      "outputs": [
        {
          "output_type": "stream",
          "name": "stdout",
          "text": [
            "40\n",
            "40\n",
            "30\n",
            "Imprimir recorriendo primero la rama izquierda\n",
            "30\n"
          ]
        }
      ]
    }
  ]
}