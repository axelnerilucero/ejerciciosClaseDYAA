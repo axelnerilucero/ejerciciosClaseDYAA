{
  "nbformat": 4,
  "nbformat_minor": 0,
  "metadata": {
    "colab": {
      "name": "estrategias_diseño_1511",
      "provenance": [],
      "collapsed_sections": [],
      "authorship_tag": "ABX9TyMs1Qz/3HOAyOqqaIFiKWwZ",
      "include_colab_link": true
    },
    "kernelspec": {
      "name": "python3",
      "display_name": "Python 3"
    },
    "language_info": {
      "name": "python"
    }
  },
  "cells": [
    {
      "cell_type": "markdown",
      "metadata": {
        "id": "view-in-github",
        "colab_type": "text"
      },
      "source": [
        "<a href=\"https://colab.research.google.com/github/axelnerilucero/ejerciciosClaseDYAA/blob/main/estrategias_dise%C3%B1o_1511.ipynb\" target=\"_parent\"><img src=\"https://colab.research.google.com/assets/colab-badge.svg\" alt=\"Open In Colab\"/></a>"
      ]
    },
    {
      "cell_type": "markdown",
      "metadata": {
        "id": "btMWHFg8YVx6"
      },
      "source": [
        "#Fuerza bruta \n",
        "ejemplo 1, busqueda de patrones de texto"
      ]
    },
    {
      "cell_type": "code",
      "metadata": {
        "colab": {
          "base_uri": "https://localhost:8080/"
        },
        "id": "ERVVOeq_YgOs",
        "outputId": "a0bc8bbc-0444-4037-a529-9d81de68a31d"
      },
      "source": [
        "def string_match_brute(A,P):\n",
        "  count = 0\n",
        "  for i in range(len(A) - len(P) + 1):\n",
        "    for j in range(len(P)):\n",
        "      if P[j] == A[i+j]:\n",
        "        pass\n",
        "      else:\n",
        "        break\n",
        "    if j+1 == len(P) and A[i+j] == P[j]:\n",
        "      count = count + 1\n",
        "      print(f\"Se encontro en la posicion: {i}\")\n",
        "  print(f\"se encontraron {count} coincidencias\")\n",
        "entrada = \"0011100101011011101\"\n",
        "patron = \"00\"\n",
        "\n",
        "string_match_brute(entrada,patron)\n",
        "#Algoritmos de cifrado, cifrado cesar"
      ],
      "execution_count": null,
      "outputs": [
        {
          "output_type": "stream",
          "name": "stdout",
          "text": [
            "Se encontro en la posicion: 0\n",
            "Se encontro en la posicion: 5\n",
            "se encontraron 2 coincidencias\n"
          ]
        }
      ]
    },
    {
      "cell_type": "markdown",
      "metadata": {
        "id": "Zzy83dtfYWHZ"
      },
      "source": [
        ""
      ]
    }
  ]
}