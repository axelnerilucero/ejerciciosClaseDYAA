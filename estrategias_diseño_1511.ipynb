{
  "nbformat": 4,
  "nbformat_minor": 0,
  "metadata": {
    "colab": {
      "name": "estrategias_diseño_1511",
      "provenance": [],
      "collapsed_sections": [],
      "authorship_tag": "ABX9TyOQtLhVIEJR2KppdS9vsN03",
      "include_colab_link": true
    },
    "kernelspec": {
      "name": "python3",
      "display_name": "Python 3"
    },
    "language_info": {
      "name": "python"
    }
  },
  "cells": [
    {
      "cell_type": "markdown",
      "metadata": {
        "id": "view-in-github",
        "colab_type": "text"
      },
      "source": [
        "<a href=\"https://colab.research.google.com/github/axelnerilucero/ejerciciosClaseDYAA/blob/main/estrategias_dise%C3%B1o_1511.ipynb\" target=\"_parent\"><img src=\"https://colab.research.google.com/assets/colab-badge.svg\" alt=\"Open In Colab\"/></a>"
      ]
    },
    {
      "cell_type": "markdown",
      "metadata": {
        "id": "btMWHFg8YVx6"
      },
      "source": [
        "#Fuerza bruta \n",
        "ejemplo 1, busqueda de patrones de texto"
      ]
    },
    {
      "cell_type": "code",
      "metadata": {
        "colab": {
          "base_uri": "https://localhost:8080/"
        },
        "id": "ERVVOeq_YgOs",
        "outputId": "a0bc8bbc-0444-4037-a529-9d81de68a31d"
      },
      "source": [
        "def string_match_brute(A,P):\n",
        "  count = 0\n",
        "  for i in range(len(A) - len(P) + 1):\n",
        "    for j in range(len(P)):\n",
        "      if P[j] == A[i+j]:\n",
        "        pass\n",
        "      else:\n",
        "        break\n",
        "    if j+1 == len(P) and A[i+j] == P[j]:\n",
        "      count = count + 1\n",
        "      print(f\"Se encontro en la posicion: {i}\")\n",
        "  print(f\"se encontraron {count} coincidencias\")\n",
        "entrada = \"0011100101011011101\"\n",
        "patron = \"00\"\n",
        "string_match_brute(entrada,patron)\n",
        "#Algoritmos de cifrado, cifrado cesar"
      ],
      "execution_count": null,
      "outputs": [
        {
          "output_type": "stream",
          "name": "stdout",
          "text": [
            "Se encontro en la posicion: 0\n",
            "Se encontro en la posicion: 5\n",
            "se encontraron 2 coincidencias\n"
          ]
        }
      ]
    },
    {
      "cell_type": "markdown",
      "metadata": {
        "id": "9xNo4juEY31x"
      },
      "source": [
        "#Cifrado Cesar"
      ]
    },
    {
      "cell_type": "code",
      "metadata": {
        "colab": {
          "base_uri": "https://localhost:8080/"
        },
        "id": "FOmMAdRa1N1s",
        "outputId": "071a244c-585d-41d6-9e26-75c2cefef923"
      },
      "source": [
        "# Solamente decifrar {encripatdo esta mal dicho}\n",
        "cifrado ='dwdfdu'\n",
        "alfabeto = 'abcdefghijklmnopqrstuvwxyz'\n",
        "llave = 5\n",
        "print(len(alfabeto))\n",
        "for llave in range(1,len(alfabeto)):\n",
        "  for i in range(len(cifrado)):\n",
        "    #print(alfabeto.index(cifrado[i]), end=\" \")\n",
        "    index = alfabeto.index(cifrado[i])\n",
        "    print(alfabeto[(index + llave) %26], end=\"\")  \n",
        "  print(\" \")\n",
        "\n",
        "\n"
      ],
      "execution_count": 41,
      "outputs": [
        {
          "output_type": "stream",
          "name": "stdout",
          "text": [
            "26\n",
            "exegev \n",
            "fyfhfw \n",
            "gzgigx \n",
            "hahjhy \n",
            "ibikiz \n",
            "jcjlja \n",
            "kdkmkb \n",
            "lelnlc \n",
            "mfmomd \n",
            "ngnpne \n",
            "ohoqof \n",
            "piprpg \n",
            "qjqsqh \n",
            "rkrtri \n",
            "slsusj \n",
            "tmtvtk \n",
            "unuwul \n",
            "vovxvm \n",
            "wpwywn \n",
            "xqxzxo \n",
            "yryayp \n",
            "zszbzq \n",
            "atacar \n",
            "bubdbs \n",
            "cvcect \n"
          ]
        }
      ]
    },
    {
      "cell_type": "code",
      "metadata": {
        "colab": {
          "base_uri": "https://localhost:8080/"
        },
        "id": "TjdKgfbBgDQb",
        "outputId": "5b8e2fd5-226e-4e31-874d-93439cf8ae8c"
      },
      "source": [
        "# Solamente decifrar {encripatdo esta mal dicho}\n",
        "cifrado ='zg gzhv lpz vidhv v gv pidqzmndyvy ivxdjivg, kjm hd mvuv cvwgvmá zg znkímdop, mzqzgv gv qjxvxdói cphviínodxv xji gv lpz apz xjixzwdyv. zg vpojm yz znov xégzwmz amvnz, ejné qvnxjixzgjn, vnphdó gv mzxojmív zi 1920, zi piv ékjxv zi lpz gvn znkzmviuvn yz gv mzqjgpxdói vúi znovwvi qdqvn, cvwív piv bmvi aé zi gv kvomdv t zg áidhj mzyziojm nz zsoziyív zi zg vhwdzioz.'\n",
        "alfabeto = 'abcdefghijklmnopqrstuvwxyz'\n",
        "llave = 5\n",
        "print(len(alfabeto))\n",
        "for llave in range(1,len(alfabeto)):\n",
        "  for i in range(len(cifrado)):\n",
        "    if (cifrado[i] in alfabeto):    \n",
        "    #print(alfabeto.index(cifrado[i]), end=\" \")\n",
        "      index = alfabeto.index(cifrado[i])\n",
        "      print(alfabeto[(index + llave) %26], end=\"\")  \n",
        "    else:\n",
        "      print(cifrado[i], end=\"\")\n",
        "  print(\" \")\n",
        "  # descriminar lineas que no sean legibles \n",
        "  # español\n",
        "\n"
      ],
      "execution_count": 30,
      "outputs": [
        {
          "output_type": "stream",
          "name": "stdout",
          "text": [
            "26\n",
            "ah haiw mqa wjeiw w hw qjeranoezwz jwyekjwh, lkn ie nwvw dwxhwná ah aolínepq, narahw hw rkywyeój dqiwjíopeyw ykj hw mqa bqa ykjyaxezw. ah wqpkn za aopw yéhaxna bnwoa, fkoé rwoykjyahko, woqieó hw naypkníw aj 1920, aj qjw élkyw aj mqa hwo aolanwjvwo za hw narkhqyeój wúj aopwxwj rerwo, dwxíw qjw cnwj bé aj hw lwpnew u ah ájeik nazajpkn oa atpajzíw aj ah wixeajpa. \n",
            "bi ibjx nrb xkfjx x ix rkfsbopfaxa kxzflkxi, mlo jf oxwx exyixoá bi bpmíofqr, obsbix ix slzxzfók erjxkípqfzx zlk ix nrb crb zlkzbyfax. bi xrqlo ab bpqx zéibyob coxpb, glpé sxpzlkzbilp, xprjfó ix obzqloíx bk 1920, bk rkx émlzx bk nrb ixp bpmboxkwxp ab ix obslirzfók xúk bpqxyxk sfsxp, exyíx rkx doxk cé bk ix mxqofx v bi ákfjl obabkqlo pb buqbkaíx bk bi xjyfbkqb. \n",
            "cj jcky osc ylgky y jy slgtcpqgbyb lyagmlyj, nmp kg pyxy fyzjypá cj cqnípgrs, pctcjy jy tmayagól fskylíqrgay aml jy osc dsc amlaczgby. cj ysrmp bc cqry aéjczpc dpyqc, hmqé tyqamlacjmq, yqskgó jy pcarmpíy cl 1920, cl sly énmay cl osc jyq cqncpylxyq bc jy pctmjsagól yúl cqryzyl tgtyq, fyzíy sly epyl dé cl jy nyrpgy w cj álgkm pcbclrmp qc cvrclbíy cl cj ykzgclrc. \n",
            "dk kdlz ptd zmhlz z kz tmhudqrhczc mzbhnmzk, onq lh qzyz gzakzqá dk droíqhst, qdudkz kz unbzbhóm gtlzmírshbz bnm kz ptd etd bnmbdahcz. dk ztsnq cd drsz békdaqd eqzrd, inré uzrbnmbdknr, zrtlhó kz qdbsnqíz dm 1920, dm tmz éonbz dm ptd kzr drodqzmyzr cd kz qdunktbhóm zúm drszazm uhuzr, gzaíz tmz fqzm eé dm kz ozsqhz x dk ámhln qdcdmsnq rd dwsdmcíz dm dk zlahdmsd. \n",
            "el lema que anima a la universidad nacional, por mi raza hablará el espíritu, revela la vocación humanística con la que fue concebida. el autor de esta célebre frase, josé vasconcelos, asumió la rectoría en 1920, en una época en que las esperanzas de la revolución aún estaban vivas, había una gran fé en la patria y el ánimo redentor se extendía en el ambiente. \n",
            "fm mfnb rvf bojnb b mb vojwfstjebe obdjpobm, qps nj sbab ibcmbsá fm ftqísjuv, sfwfmb mb wpdbdjóo ivnboítujdb dpo mb rvf gvf dpodfcjeb. fm bvups ef ftub démfcsf gsbtf, kpté wbtdpodfmpt, btvnjó mb sfdupsíb fo 1920, fo vob éqpdb fo rvf mbt ftqfsboabt ef mb sfwpmvdjóo búo ftubcbo wjwbt, ibcíb vob hsbo gé fo mb qbusjb z fm áojnp sfefoups tf fyufoeíb fo fm bncjfouf. \n",
            "gn ngoc swg cpkoc c nc wpkxgtukfcf pcekqpcn, rqt ok tcbc jcdnctá gn gurítkvw, tgxgnc nc xqecekóp jwocpíuvkec eqp nc swg hwg eqpegdkfc. gn cwvqt fg guvc eéngdtg htcug, lqué xcueqpegnqu, cuwokó nc tgevqtíc gp 1920, gp wpc érqec gp swg ncu gurgtcpbcu fg nc tgxqnwekóp cúp guvcdcp xkxcu, jcdíc wpc itcp hé gp nc rcvtkc a gn ápkoq tgfgpvqt ug gzvgpfíc gp gn codkgpvg. \n",
            "ho ohpd txh dqlpd d od xqlyhuvlgdg qdflrqdo, sru pl udcd kdeoduá ho hvsíulwx, uhyhod od yrfdflóq kxpdqívwlfd frq od txh ixh frqfhelgd. ho dxwru gh hvwd féoheuh iudvh, mrvé ydvfrqfhorv, dvxpló od uhfwruíd hq 1920, hq xqd ésrfd hq txh odv hvshudqcdv gh od uhyroxflóq dúq hvwdedq ylydv, kdeíd xqd judq ié hq od sdwuld b ho áqlpr uhghqwru vh hawhqgíd hq ho dpelhqwh. \n",
            "ip piqe uyi ermqe e pe yrmzivwmheh regmsrep, tsv qm vede lefpevá ip iwtívmxy, vizipe pe zsgegmór lyqeríwxmge gsr pe uyi jyi gsrgifmhe. ip eyxsv hi iwxe gépifvi jvewi, nswé zewgsrgipsw, ewyqmó pe vigxsvíe ir 1920, ir yre étsge ir uyi pew iwtiverdew hi pe vizspygmór eúr iwxefer zmzew, lefíe yre kver jé ir pe texvme c ip ármqs vihirxsv wi ibxirhíe ir ip eqfmirxi. \n",
            "jq qjrf vzj fsnrf f qf zsnajwxnifi sfhntsfq, utw rn wfef mfgqfwá jq jxuíwnyz, wjajqf qf athfhnós mzrfsíxynhf hts qf vzj kzj htshjgnif. jq fzytw ij jxyf héqjgwj kwfxj, otxé afxhtshjqtx, fxzrnó qf wjhytwíf js 1920, js zsf éuthf js vzj qfx jxujwfsefx ij qf wjatqzhnós fús jxyfgfs anafx, mfgíf zsf lwfs ké js qf ufywnf d jq ásnrt wjijsytw xj jcyjsiíf js jq frgnjsyj. \n",
            "kr rksg wak gtosg g rg atobkxyojgj tgioutgr, vux so xgfg nghrgxá kr kyvíxoza, xkbkrg rg buigioót nasgtíyzoig iut rg wak lak iutikhojg. kr gazux jk kyzg iérkhxk lxgyk, puyé bgyiutikruy, gyasoó rg xkizuxíg kt 1920, kt atg évuig kt wak rgy kyvkxgtfgy jk rg xkburaioót gút kyzghgt bobgy, nghíg atg mxgt lé kt rg vgzxog e kr átosu xkjktzux yk kdzktjíg kt kr gshoktzk. \n",
            "ls slth xbl hupth h sh bupclyzpkhk uhjpvuhs, wvy tp yhgh ohishyá ls lzwíypab, ylclsh sh cvjhjpóu obthuízapjh jvu sh xbl mbl jvujlipkh. ls hbavy kl lzah jésliyl myhzl, qvzé chzjvujlsvz, hzbtpó sh yljavyíh lu 1920, lu buh éwvjh lu xbl shz lzwlyhughz kl sh ylcvsbjpóu húu lzahihu cpchz, ohiíh buh nyhu mé lu sh whayph f ls áuptv ylkluavy zl lealukíh lu ls htiplual. \n",
            "mt tmui ycm ivqui i ti cvqdmzaqlil vikqwvit, xwz uq zihi pijtizá mt maxízqbc, zmdmti ti dwkikqóv pcuivíabqki kwv ti ycm ncm kwvkmjqli. mt icbwz lm mabi kétmjzm nziam, rwaé diakwvkmtwa, iacuqó ti zmkbwzíi mv 1920, mv cvi éxwki mv ycm tia maxmzivhia lm ti zmdwtckqóv iúv mabijiv dqdia, pijíi cvi oziv né mv ti xibzqi g mt ávquw zmlmvbwz am mfbmvlíi mv mt iujqmvbm. \n",
            "nu unvj zdn jwrvj j uj dwrenabrmjm wjlrxwju, yxa vr ajij qjkujaá nu nbyíarcd, anenuj uj exljlrów qdvjwíbcrlj lxw uj zdn odn lxwlnkrmj. nu jdcxa mn nbcj léunkan oajbn, sxbé ejblxwlnuxb, jbdvró uj anlcxaíj nw 1920, nw dwj éyxlj nw zdn ujb nbynajwijb mn uj anexudlrów júw nbcjkjw erejb, qjkíj dwj pajw oé nw uj yjcarj h nu áwrvx anmnwcxa bn ngcnwmíj nw nu jvkrnwcn. \n",
            "ov vowk aeo kxswk k vk exsfobcsnkn xkmsyxkv, zyb ws bkjk rklvkbá ov oczíbsde, bofovk vk fymkmsóx rewkxícdsmk myx vk aeo peo myxmolsnk. ov kedyb no ocdk mévolbo pbkco, tycé fkcmyxmovyc, kcewsó vk bomdybík ox 1920, ox exk ézymk ox aeo vkc oczobkxjkc no vk bofyvemsóx kúx ocdklkx fsfkc, rklík exk qbkx pé ox vk zkdbsk i ov áxswy bonoxdyb co ohdoxník ox ov kwlsoxdo. \n",
            "pw wpxl bfp lytxl l wl fytgpcdtolo ylntzylw, azc xt clkl slmwlcá pw pdaíctef, cpgpwl wl gznlntóy sfxlyídetnl nzy wl bfp qfp nzynpmtol. pw lfezc op pdel néwpmcp qcldp, uzdé gldnzynpwzd, ldfxtó wl cpnezcíl py 1920, py fyl éaznl py bfp wld pdapclykld op wl cpgzwfntóy lúy pdelmly gtgld, slmíl fyl rcly qé py wl alectl j pw áytxz cpopyezc dp piepyoíl py pw lxmtpyep. \n",
            "qx xqym cgq mzuym m xm gzuhqdeupmp zmouazmx, bad yu dmlm tmnxmdá qx qebídufg, dqhqxm xm haomouóz tgymzíefuom oaz xm cgq rgq oazoqnupm. qx mgfad pq qefm oéxqndq rdmeq, vaeé hmeoazoqxae, megyuó xm dqofadím qz 1920, qz gzm ébaom qz cgq xme qebqdmzlme pq xm dqhaxgouóz múz qefmnmz huhme, tmním gzm sdmz ré qz xm bmfdum k qx ázuya dqpqzfad eq qjfqzpím qz qx mynuqzfq. \n",
            "ry yrzn dhr navzn n yn havirefvqnq anpvbany, cbe zv enmn unoyneá ry rfcíevgh, eriryn yn ibpnpvóa uhznaífgvpn pba yn dhr shr pbaprovqn. ry nhgbe qr rfgn péyroer senfr, wbfé infpbaprybf, nfhzvó yn erpgbeín ra 1920, ra han écbpn ra dhr ynf rfcrenamnf qr yn eribyhpvóa núa rfgnona ivinf, unoín han tena sé ra yn cngevn l ry áavzb erqragbe fr rkgraqín ra ry nzovragr. \n",
            "sz zsao eis obwao o zo ibwjsfgwror boqwcboz, dcf aw fono vopzofá sz sgdífwhi, fsjszo zo jcqoqwób viaobíghwqo qcb zo eis tis qcbqspwro. sz oihcf rs sgho qézspfs tfogs, xcgé jogqcbqszcg, ogiawó zo fsqhcfío sb 1920, sb ibo édcqo sb eis zog sgdsfobnog rs zo fsjcziqwób oúb sghopob jwjog, vopío ibo ufob té sb zo dohfwo m sz ábwac fsrsbhcf gs slhsbrío sb sz oapwsbhs. \n",
            "ta atbp fjt pcxbp p ap jcxktghxsps cprxdcpa, edg bx gpop wpqapgá ta theígxij, gtktap ap kdrprxóc wjbpcíhixrp rdc ap fjt ujt rdcrtqxsp. ta pjidg st thip réatqgt ugpht, ydhé kphrdcrtadh, phjbxó ap gtridgíp tc 1920, tc jcp éedrp tc fjt aph thetgpcoph st ap gtkdajrxóc púc thipqpc kxkph, wpqíp jcp vgpc ué tc ap epigxp n ta ácxbd gtstcidg ht tmitcsíp tc ta pbqxtcit. \n",
            "ub bucq gku qdycq q bq kdyluhiytqt dqsyedqb, feh cy hqpq xqrbqhá ub uifíhyjk, hulubq bq lesqsyód xkcqdíijysq sed bq gku vku sedsurytq. ub qkjeh tu uijq séburhu vhqiu, zeié lqisedsubei, qikcyó bq husjehíq ud 1920, ud kdq éfesq ud gku bqi uifuhqdpqi tu bq hulebksyód qúd uijqrqd lylqi, xqríq kdq whqd vé ud bq fqjhyq o ub ádyce hutudjeh iu unjudtíq ud ub qcryudju. \n",
            "vc cvdr hlv rezdr r cr lezmvijzuru ertzferc, gfi dz irqr yrscriá vc vjgíizkl, ivmvcr cr mftrtzóe yldreíjkztr tfe cr hlv wlv tfetvszur. vc rlkfi uv vjkr técvsiv wirjv, afjé mrjtfetvcfj, rjldzó cr ivtkfiír ve 1920, ve ler égftr ve hlv crj vjgvireqrj uv cr ivmfcltzóe rúe vjkrsre mzmrj, yrsír ler xire wé ve cr grkizr p vc áezdf ivuvekfi jv vokveuír ve vc rdszvekv. \n",
            "wd dwes imw sfaes s ds mfanwjkavsv fsuagfsd, hgj ea jsrs zstdsjá wd wkhíjalm, jwnwds ds ngusuaóf zmesfíklaus ugf ds imw xmw ugfuwtavs. wd smlgj vw wkls uédwtjw xjskw, bgké nskugfuwdgk, skmeaó ds jwulgjís wf 1920, wf mfs éhgus wf imw dsk wkhwjsfrsk vw ds jwngdmuaóf súf wklstsf nansk, zstís mfs yjsf xé wf ds hsljas q wd áfaeg jwvwflgj kw wplwfvís wf wd setawflw. \n",
            "xe exft jnx tgbft t et ngboxklbwtw gtvbhgte, ihk fb ktst atuetká xe xliíkbmn, kxoxet et ohvtvbóg anftgílmbvt vhg et jnx ynx vhgvxubwt. xe tnmhk wx xlmt véexukx yktlx, chlé otlvhgvxehl, tlnfbó et kxvmhkít xg 1920, xg ngt éihvt xg jnx etl xlixktgstl wx et kxohenvbóg túg xlmtutg obotl, atuít ngt zktg yé xg et itmkbt r xe ágbfh kxwxgmhk lx xqmxgwít xg xe tfubxgmx. \n",
            "yf fygu koy uhcgu u fu ohcpylmcxux huwcihuf, jil gc lutu buvfulá yf ymjílcno, lypyfu fu piwuwcóh boguhímncwu wih fu koy zoy wihwyvcxu. yf uonil xy ymnu wéfyvly zlumy, dimé pumwihwyfim, umogcó fu lywnilíu yh 1920, yh ohu éjiwu yh koy fum ymjyluhtum xy fu lypifowcóh uúh ymnuvuh pcpum, buvíu ohu aluh zé yh fu junlcu s yf áhcgi lyxyhnil my yrnyhxíu yh yf ugvcyhny. \n"
          ]
        }
      ]
    },
    {
      "cell_type": "markdown",
      "metadata": {
        "id": "ubk1VW7wkeGK"
      },
      "source": [
        "#Buscar por fuerza bruta los puntos más cercanos entre si, dento de un plano cartesiano.\n"
      ]
    },
    {
      "cell_type": "code",
      "metadata": {
        "colab": {
          "base_uri": "https://localhost:8080/",
          "height": 282
        },
        "id": "DMxalMk_lMfS",
        "outputId": "688ee559-fff6-40f1-dea4-dacc82cccf2c"
      },
      "source": [
        "from matplotlib import pyplot as plt \n",
        "import random \n",
        "\n",
        "pares = []\n",
        "for i in range(5):\n",
        "  pares.append([random.randint(1,100),random.randint(1,100)])\n",
        "print(pares)\n",
        "for par in pares:\n",
        " plt.plot(par[0],par[1],'yo')"
      ],
      "execution_count": 40,
      "outputs": [
        {
          "output_type": "stream",
          "name": "stdout",
          "text": [
            "[[46, 46], [58, 43], [7, 9], [31, 85], [52, 90]]\n"
          ]
        },
        {
          "output_type": "display_data",
          "data": {
            "image/png": "[encoded data removed]",
            "text/plain": [
              "<Figure size 432x288 with 1 Axes>"
            ]
          },
          "metadata": {
            "needs_background": "light"
          }
        }
      ]
    },
    {
      "cell_type": "markdown",
      "metadata": {
        "id": "Zzy83dtfYWHZ"
      },
      "source": [
        ""
      ]
    }
  ]
}