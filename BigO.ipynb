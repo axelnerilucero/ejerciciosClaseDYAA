{
  "nbformat": 4,
  "nbformat_minor": 0,
  "metadata": {
    "colab": {
      "name": "BigO.ipynb",
      "provenance": [],
      "authorship_tag": "ABX9TyOfFuN48dgpfT4OYjL4zRsZ",
      "include_colab_link": true
    },
    "kernelspec": {
      "name": "python3",
      "display_name": "Python 3"
    },
    "language_info": {
      "name": "python"
    }
  },
  "cells": [
    {
      "cell_type": "markdown",
      "metadata": {
        "id": "view-in-github",
        "colab_type": "text"
      },
      "source": [
        "<a href=\"https://colab.research.google.com/github/axelnerilucero/ejerciciosClaseDYAA/blob/main/BigO.ipynb\" target=\"_parent\"><img src=\"https://colab.research.google.com/assets/colab-badge.svg\" alt=\"Open In Colab\"/></a>"
      ]
    },
    {
      "cell_type": "code",
      "metadata": {
        "id": "UqXbE95kefLP"
      },
      "source": [
        "def suma(num):\n",
        "    suma = 0\n",
        "    for i in range(num +1 ):\n",
        "        suma += i\n",
        "    print(suma)"
      ],
      "execution_count": null,
      "outputs": []
    },
    {
      "cell_type": "markdown",
      "metadata": {
        "id": "4rqo5nGliTk2"
      },
      "source": [
        ""
      ]
    },
    {
      "cell_type": "markdown",
      "metadata": {
        "id": "Ox5OgXnWiVMR"
      },
      "source": [
        ""
      ]
    },
    {
      "cell_type": "code",
      "metadata": {
        "colab": {
          "base_uri": "https://localhost:8080/"
        },
        "id": "bRexA6rpetSj",
        "outputId": "f48b0702-01f5-4a36-bcfe-1181a4c4a785"
      },
      "source": [
        "def sumaNumeros(n):\n",
        "    if (n == 0):\n",
        "        return 0\n",
        "    else: \n",
        "        return n+sumaNumeros(n-1)\n",
        "sumaNumeros(3)"
      ],
      "execution_count": null,
      "outputs": [
        {
          "output_type": "execute_result",
          "data": {
            "text/plain": [
              "6"
            ]
          },
          "metadata": {},
          "execution_count": 1
        }
      ]
    },
    {
      "cell_type": "code",
      "metadata": {
        "id": "HLyN9EUGfjl3",
        "colab": {
          "base_uri": "https://localhost:8080/"
        },
        "outputId": "7c6b409e-57b8-4ef2-d134-e9d99a87d398"
      },
      "source": [
        "def calcular(numero):\n",
        "    numeros = []\n",
        "    numero += 1\n",
        "    while numero > 0:\n",
        "        numero  = numero - 1\n",
        "        numeros.append(numero)\n",
        "    print(numeros)\n",
        "    numero = numero -1\n",
        "    suma = sum(numeros)\n",
        "    print(suma)\n",
        "calcular(3)\n"
      ],
      "execution_count": null,
      "outputs": [
        {
          "output_type": "stream",
          "name": "stdout",
          "text": [
            "[3, 2, 1, 0]\n",
            "6\n"
          ]
        }
      ]
    },
    {
      "cell_type": "code",
      "metadata": {
        "id": "BP5ReAgonXYX"
      },
      "source": [
        "def combnacion(a):\n",
        "  for c in range(len(a)):\n",
        "    "
      ],
      "execution_count": null,
      "outputs": []
    },
    {
      "cell_type": "code",
      "metadata": {
        "id": "F58WLu_-f5-C"
      },
      "source": [
        "import time\n",
        "time.time()\n",
        "marca1 = time.time()\n",
        "\n",
        "n = 3\n",
        "suma(n)\n"
      ],
      "execution_count": null,
      "outputs": []
    },
    {
      "cell_type": "markdown",
      "metadata": {
        "id": "Z_wXnd_IiY2X"
      },
      "source": [
        "TEXTODEL PROGRAMA"
      ]
    },
    {
      "cell_type": "code",
      "metadata": {
        "colab": {
          "base_uri": "https://localhost:8080/"
        },
        "id": "tFUiAC_QicW4",
        "outputId": "65e9ad4b-4a63-42a3-9a8a-23abec6d8ef9"
      },
      "source": [
        "numeros = [1,2,3,4,5,6,7,8,9]\n",
        "\n",
        "def unaFuncionCualquiera( lista ):\n",
        "    conteo = 0    #O(1)\n",
        "    for numero1 in lista:\n",
        "        for numero2 in lista:\n",
        "            print(numero1 , numero2 )  #O(nalcuadrado)\n",
        "            conteo += 1  #O(nalcuadrado)\n",
        "    return conteo\n",
        "# O(1+2nalcuadrado)\n",
        "# O(nalcuadrado)\n",
        "conteo = unaFuncionCualquiera(numeros)\n",
        "\n",
        "print( \"Final:\" , conteo)"
      ],
      "execution_count": null,
      "outputs": [
        {
          "output_type": "stream",
          "name": "stdout",
          "text": [
            "1 1\n",
            "1 2\n",
            "1 3\n",
            "1 4\n",
            "1 5\n",
            "1 6\n",
            "1 7\n",
            "1 8\n",
            "1 9\n",
            "2 1\n",
            "2 2\n",
            "2 3\n",
            "2 4\n",
            "2 5\n",
            "2 6\n",
            "2 7\n",
            "2 8\n",
            "2 9\n",
            "3 1\n",
            "3 2\n",
            "3 3\n",
            "3 4\n",
            "3 5\n",
            "3 6\n",
            "3 7\n",
            "3 8\n",
            "3 9\n",
            "4 1\n",
            "4 2\n",
            "4 3\n",
            "4 4\n",
            "4 5\n",
            "4 6\n",
            "4 7\n",
            "4 8\n",
            "4 9\n",
            "5 1\n",
            "5 2\n",
            "5 3\n",
            "5 4\n",
            "5 5\n",
            "5 6\n",
            "5 7\n",
            "5 8\n",
            "5 9\n",
            "6 1\n",
            "6 2\n",
            "6 3\n",
            "6 4\n",
            "6 5\n",
            "6 6\n",
            "6 7\n",
            "6 8\n",
            "6 9\n",
            "7 1\n",
            "7 2\n",
            "7 3\n",
            "7 4\n",
            "7 5\n",
            "7 6\n",
            "7 7\n",
            "7 8\n",
            "7 9\n",
            "8 1\n",
            "8 2\n",
            "8 3\n",
            "8 4\n",
            "8 5\n",
            "8 6\n",
            "8 7\n",
            "8 8\n",
            "8 9\n",
            "9 1\n",
            "9 2\n",
            "9 3\n",
            "9 4\n",
            "9 5\n",
            "9 6\n",
            "9 7\n",
            "9 8\n",
            "9 9\n",
            "Final: 81\n"
          ]
        }
      ]
    },
    {
      "cell_type": "markdown",
      "metadata": {
        "id": "kX7ZNG6XivBN"
      },
      "source": [
        "#ejercicio 3.1\n",
        "modificar el anterior para que sume y muestre el resultado"
      ]
    },
    {
      "cell_type": "code",
      "metadata": {
        "id": "MPm_UdbtjL0V",
        "colab": {
          "base_uri": "https://localhost:8080/"
        },
        "outputId": "b496ed31-6b8c-4c70-9af1-55a6b8a37983"
      },
      "source": [
        "numeros = [1,2,3]\n",
        "\n",
        "def unaFuncionCualquiera( lista ):\n",
        "    conteo = 0 # O(1)\n",
        "    suma = 0 # O(1)\n",
        "    for num in lista:\n",
        "        suma += num # O(n)\n",
        "    print(f\"La sumatoria de los numeros en la lista es={ suma } \") #O(1)\n",
        "\n",
        "    for numero1 in lista:\n",
        "        for numero2 in lista:\n",
        "            print(numero1 , numero2 ) # O(nalcuadrado)\n",
        "            conteo += 1 # O(nalcuadrado)\n",
        "    return conteo\n",
        "\n",
        "    # O(3 + n + 2nalcuadrado)\n",
        "    # O(nalcuadrado)\n",
        "\n",
        "\n",
        "conteo = unaFuncionCualquiera(numeros)\n",
        "\n",
        "print( \"Final:\" , conteo)"
      ],
      "execution_count": 1,
      "outputs": [
        {
          "output_type": "stream",
          "name": "stdout",
          "text": [
            "La sumatoria de los numeros en la lista es=6 \n",
            "1 1\n",
            "1 2\n",
            "1 3\n",
            "2 1\n",
            "2 2\n",
            "2 3\n",
            "3 1\n",
            "3 2\n",
            "3 3\n",
            "Final: 9\n"
          ]
        }
      ]
    },
    {
      "cell_type": "code",
      "metadata": {
        "colab": {
          "base_uri": "https://localhost:8080/"
        },
        "id": "KwKsaag-7hii",
        "outputId": "b496ed31-6b8c-4c70-9af1-55a6b8a37983"
      },
      "source": [
        "numeros = [1,2,3]\n",
        "\n",
        "def unaFuncionCualquiera( lista ):\n",
        "    conteo = 0 # O(1)\n",
        "    suma = 0 # O(1)\n",
        "    for num in lista:\n",
        "        suma += num # O(n)\n",
        "    print(f\"La sumatoria de los numeros en la lista es={ suma } \") #O(1)\n",
        "\n",
        "    for numero1 in lista:\n",
        "        for numero2 in lista:\n",
        "            print(numero1 , numero2 ) # O(nalcuadrado)\n",
        "            conteo += 1 # O(nalcuadrado)\n",
        "    return conteo\n",
        "\n",
        "    # O(3 + n + 2nalcuadrado)\n",
        "    # O(3 + n + 2nalcuadrado)\n",
        "\n",
        "conteo = unaFuncionCualquiera(numeros)\n",
        "\n",
        "print( \"Final:\" , conteo)"
      ],
      "execution_count": null,
      "outputs": [
        {
          "output_type": "stream",
          "name": "stdout",
          "text": [
            "La sumatoria de los numeros en la lista es=6 \n",
            "1 1\n",
            "1 2\n",
            "1 3\n",
            "2 1\n",
            "2 2\n",
            "2 3\n",
            "3 1\n",
            "3 2\n",
            "3 3\n",
            "Final: 9\n"
          ]
        }
      ]
    },
    {
      "cell_type": "markdown",
      "metadata": {
        "id": "O5DApPiAlsmP"
      },
      "source": [
        "Ejemplo 3.2\n",
        "modificar el ejemplo 2 y que las combinaciones sean de dos listas diferentes "
      ]
    },
    {
      "cell_type": "code",
      "metadata": {
        "colab": {
          "base_uri": "https://localhost:8080/"
        },
        "id": "Rq0CfQDqlu70",
        "outputId": "5d895fd0-0c66-4b38-885f-1eb274bf4e2b"
      },
      "source": [
        "numeros = [1,2,3]\n",
        "numeros2 = [4,5,6, 7, 8]\n",
        "\n",
        "def unaFuncionCualquiera( lista, lista2 ):\n",
        "    conteo = 0    #O(1)\n",
        "    for numero1 in lista:\n",
        "        for numero2 in lista2:\n",
        "            print(numero1 , numero2 )  # O(n*m)\n",
        "            conteo += 1  #O(n*m)\n",
        "    return conteo\n",
        "# O(1+2(n*m))\n",
        "# Or(n*m)\n",
        "conteo = unaFuncionCualquiera(numeros, numeros2)\n",
        "\n",
        "print( \"Final:\" , conteo)"
      ],
      "execution_count": 2,
      "outputs": [
        {
          "output_type": "stream",
          "name": "stdout",
          "text": [
            "1 4\n",
            "1 5\n",
            "1 6\n",
            "1 7\n",
            "1 8\n",
            "2 4\n",
            "2 5\n",
            "2 6\n",
            "2 7\n",
            "2 8\n",
            "3 4\n",
            "3 5\n",
            "3 6\n",
            "3 7\n",
            "3 8\n",
            "Final: 15\n"
          ]
        }
      ]
    },
    {
      "cell_type": "markdown",
      "metadata": {
        "id": "a7lXI-qsyENw"
      },
      "source": [
        "#Ejercicio 4\n"
      ]
    },
    {
      "cell_type": "code",
      "metadata": {
        "colab": {
          "base_uri": "https://localhost:8080/"
        },
        "id": "7-g2nOASyMBe",
        "outputId": "b5ae4288-d0ea-4332-861b-ad8881a9cec5"
      },
      "source": [
        "def busqueda_lineal(lista, val_a_buscar):\n",
        "  contador = 0 #O(1)\n",
        "  for x in range(len(lista)):\n",
        "    contador += 1 #O(n)\n",
        "    if lista[x] == val_a_buscar:\n",
        "      print(f\"Encontrado en la posicion {x}\") #O(1)\n",
        "      break\n",
        "  return contador\n",
        "#O(1 + n + 1) --> O(2+n)\n",
        "#O(n)\n",
        "numeros = [2,3,1,23,24,25,10,100,35,8]\n",
        "comparaciones = busqueda_lineal(numeros, 10)\n",
        "print(f\"{comparaciones} comparaciones\")"
      ],
      "execution_count": 4,
      "outputs": [
        {
          "output_type": "stream",
          "name": "stdout",
          "text": [
            "Encontrado en la posicion 6\n",
            "7 comparaciones\n"
          ]
        }
      ]
    },
    {
      "cell_type": "markdown",
      "metadata": {
        "id": "hXO7sbYx6Fge"
      },
      "source": [
        "#Reglas para simplificar la Big O\n",
        "\n",
        "\tRegla 1.- Concentrarse en la escalabilidad\n",
        "\tRegla 2.- Analizar el peor escenario\n",
        "\tRegla 3.- ELiminar todas las posibles constantes\n",
        "\tRegla 4.- Considerar diferentes variables de entrada\n",
        "\tRegla 5.- Eliminar todas las complejidades no dominantes "
      ]
    },
    {
      "cell_type": "code",
      "metadata": {
        "id": "Z0-B_Oa16LtI"
      },
      "source": [
        ""
      ],
      "execution_count": null,
      "outputs": []
    }
  ]
}