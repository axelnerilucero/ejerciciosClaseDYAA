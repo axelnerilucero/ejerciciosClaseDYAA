{
  "nbformat": 4,
  "nbformat_minor": 0,
  "metadata": {
    "colab": {
      "name": "Sort_BigO_1511.ipynb",
      "provenance": [],
      "collapsed_sections": [],
      "authorship_tag": "ABX9TyN75Uoa8rsMgjdbffhuzW/3",
      "include_colab_link": true
    },
    "kernelspec": {
      "name": "python3",
      "display_name": "Python 3"
    },
    "language_info": {
      "name": "python"
    }
  },
  "cells": [
    {
      "cell_type": "markdown",
      "metadata": {
        "id": "view-in-github",
        "colab_type": "text"
      },
      "source": [
        "<a href=\"https://colab.research.google.com/github/axelnerilucero/ejerciciosClaseDYAA/blob/main/Sort_BigO_1511.ipynb\" target=\"_parent\"><img src=\"https://colab.research.google.com/assets/colab-badge.svg\" alt=\"Open In Colab\"/></a>"
      ]
    },
    {
      "cell_type": "markdown",
      "metadata": {
        "id": "knpU-lD9J86e"
      },
      "source": [
        "#Bubble Sort"
      ]
    },
    {
      "cell_type": "code",
      "metadata": {
        "colab": {
          "base_uri": "https://localhost:8080/"
        },
        "id": "VWJxAWL4KEQg",
        "outputId": "c76f11ed-f85e-43d8-da03-41fa41494fd4"
      },
      "source": [
        "info = [8,5,9,3] #O() O()\n",
        "info2 = [8,5,9,3,2,1,10,-1,0,1232,-234]\n",
        "def burbuja(data): #M O() P O() //// #M O(n) P O(1)\n",
        "  tam = len(data) #M O(1) P O(1) //// #M O(1) P O(1)\n",
        "  for tope in range(tam-1,0,-1): # Desde 0 a n-1 con un incremento #M O() P O(n-1) //// #O(1) O(na)\n",
        "    for pivote in range(tope): #M O() P O(n-1) /// #O(1) O(na)\n",
        "      if data[pivote] > data[pivote+1]: #M O() P O() //// #O() O()\n",
        "          #intercambio a,b = b,a\n",
        "        data[pivote],data[pivote+1]=data[pivote+1],data[pivote] #M O() P O(n-1) //// #O() O(2nalcuadrado) \n",
        "        print(f\"-->{data}<--\")\n",
        "  return data #O(0) O(1)\n",
        "        \n",
        "print(burbuja(info))\n",
        "\n",
        "print (len(info))"
      ],
      "execution_count": null,
      "outputs": [
        {
          "output_type": "stream",
          "name": "stdout",
          "text": [
            "-->[5, 8, 9, 3]<--\n",
            "-->[5, 8, 3, 9]<--\n",
            "-->[5, 3, 8, 9]<--\n",
            "-->[3, 5, 8, 9]<--\n",
            "[3, 5, 8, 9]\n",
            "4\n"
          ]
        }
      ]
    },
    {
      "cell_type": "markdown",
      "metadata": {
        "id": "9o6xhedeVNWR"
      },
      "source": [
        "# Selection Sort \n"
      ]
    },
    {
      "cell_type": "code",
      "metadata": {
        "colab": {
          "base_uri": "https://localhost:8080/"
        },
        "id": "l3EOxndhMQk7",
        "outputId": "f2766ff5-7e2a-4135-cbc4-c158fc89329e"
      },
      "source": [
        "def selection_sort(data): #O(n) O(1) //// #M O(n) P O(1)\n",
        "  for pivote in range(len(data)):  #O(1) O(na) ///// #O(1) O(na)\n",
        "    min = pivote #O(6*1) O(1) //// #O(1) O(1*n)\n",
        "    for index in range(pivote,len(data),1): #O(1) O(na) //// #O(1) O(na)\n",
        "      if data[index] < data[min]: # #O() O() //// #O(0) O(na)\n",
        "        min = index #O(0) O(1) //// #O(0) O(1*n*n)\n",
        "    \n",
        "    data[pivote], data[min] = data[min], data[pivote] #O(n) O(2n)) //// \n",
        "    print(f\"-->{data}<--\") #O(0) O(0)\n",
        "  return data #O(0) O(1) //// #O(0) O(1)\n",
        "\n",
        "info2 = [8,5,9,3,2,1,10,-1,0,1232,-234]\n",
        "info = [8,5,9,3]\n",
        "print(selection_sort(info2))\n",
        "# M O(n+1+1+1) \n",
        "# P O(1+n+nalcuadrado+2n+1)\n",
        "# --------------------------\n",
        "\n",
        "#O(n+3 => n) O(n+n^2+2n+ 2 => n^2)"
      ],
      "execution_count": null,
      "outputs": [
        {
          "output_type": "stream",
          "name": "stdout",
          "text": [
            "-->[-234, 5, 9, 3, 2, 1, 10, -1, 0, 1232, 8]<--\n",
            "-->[-234, -1, 9, 3, 2, 1, 10, 5, 0, 1232, 8]<--\n",
            "-->[-234, -1, 0, 3, 2, 1, 10, 5, 9, 1232, 8]<--\n",
            "-->[-234, -1, 0, 1, 2, 3, 10, 5, 9, 1232, 8]<--\n",
            "-->[-234, -1, 0, 1, 2, 3, 10, 5, 9, 1232, 8]<--\n",
            "-->[-234, -1, 0, 1, 2, 3, 10, 5, 9, 1232, 8]<--\n",
            "-->[-234, -1, 0, 1, 2, 3, 5, 10, 9, 1232, 8]<--\n",
            "-->[-234, -1, 0, 1, 2, 3, 5, 8, 9, 1232, 10]<--\n",
            "-->[-234, -1, 0, 1, 2, 3, 5, 8, 9, 1232, 10]<--\n",
            "-->[-234, -1, 0, 1, 2, 3, 5, 8, 9, 10, 1232]<--\n",
            "-->[-234, -1, 0, 1, 2, 3, 5, 8, 9, 10, 1232]<--\n",
            "[-234, -1, 0, 1, 2, 3, 5, 8, 9, 10, 1232]\n"
          ]
        }
      ]
    },
    {
      "cell_type": "code",
      "metadata": {
        "id": "IQKYRGa7tlqI"
      },
      "source": [
        ""
      ],
      "execution_count": null,
      "outputs": []
    },
    {
      "cell_type": "markdown",
      "metadata": {
        "id": "RNG6qNcJzq0u"
      },
      "source": [
        "# Insertion sort \n",
        "Como cuando juegas cartas"
      ]
    },
    {
      "cell_type": "code",
      "metadata": {
        "id": "LmeXSQRFzunF",
        "colab": {
          "base_uri": "https://localhost:8080/"
        },
        "outputId": "cc783650-f7ce-4bc7-f9ea-ab699dae154d"
      },
      "source": [
        "def insertion_sort(data): #M O(n) P O(1)\n",
        "  print(f\"Original { data }\") #M O(0) P O(1)\n",
        "  for pivote in range(1,len(data),1): #M O(1) P O(na)\n",
        "    for index in range(0,pivote+1,1): #M O(1) P O(na)\n",
        "      if data[pivote] < data[index]: #M O(0) P O(na)\n",
        "        tmp = data[pivote] #M O(1) P O(n)\n",
        "        # recorrer a la derecha\n",
        "        for i in range(pivote, index, -1): #M O(1) P O(na)\n",
        "          data[i] = data[i-1] #M O(0) P O(n*m) m por ser un rango mas pequeño \n",
        "        data[index] = tmp #M O(0) P O(n)\n",
        "    print(f\"posicion {pivote} ---> {data} <----\") #M O(0) P O(1)\n",
        "  return data #M O(0) P O(1)\n",
        "\n",
        "#M O(n+1+1+1+1) P O(1+1+1+1+n+n+n*m) T(n)\n",
        "#M O(n+4) P O(4 + 2n + n^2) #por el peor escenario del tercer for\n",
        "#M O(n) P O(n^2)\n",
        "\n",
        "info = [10, 51, 2, 18, 4, 31, 12, 5]\n",
        "print(insertion_sort(info))\n"
      ],
      "execution_count": null,
      "outputs": [
        {
          "output_type": "stream",
          "name": "stdout",
          "text": [
            "Original [10, 51, 2, 18, 4, 31, 12, 5]\n",
            "posicion 1 ---> [10, 51, 2, 18, 4, 31, 12, 5] <----\n",
            "posicion 2 ---> [2, 10, 51, 18, 4, 31, 12, 5] <----\n",
            "posicion 3 ---> [2, 10, 18, 51, 4, 31, 12, 5] <----\n",
            "posicion 4 ---> [2, 4, 10, 18, 51, 31, 12, 5] <----\n",
            "posicion 5 ---> [2, 4, 10, 18, 31, 51, 12, 5] <----\n",
            "posicion 6 ---> [2, 4, 10, 12, 18, 31, 51, 5] <----\n",
            "posicion 7 ---> [2, 4, 5, 10, 12, 18, 31, 51] <----\n",
            "[2, 4, 5, 10, 12, 18, 31, 51]\n"
          ]
        }
      ]
    },
    {
      "cell_type": "markdown",
      "metadata": {
        "id": "yB89xrvYFzyD"
      },
      "source": [
        "#Merge Sort\n"
      ]
    },
    {
      "cell_type": "code",
      "metadata": {
        "id": "ayJpI3MGtoD6"
      },
      "source": [
        "def mergeSort(data):\n",
        "  tam = len(data)\n",
        "  print(f\"recibido: {data}\")\n",
        "  if tam == 1: #Caso base de recursividad\n",
        "    return data \n",
        "  \n",
        "  mid = tam//2\n",
        "  D = mergeSort(data[0:mid:1])\n",
        "  I = mergeSort(data[mid: :1])\n",
        "  #print(f\"{I}\\t\\t{D}\")\n",
        "\n",
        "  return merge(I, D)\n",
        "\n",
        "def merge(I, D):\n",
        "  resultado = [] * len(I) + len(D)\n",
        "  i = 0\n",
        "  d = 0\n",
        "  r = 0\n",
        "  while i < len(I) and d < len(D)\n",
        "\n"
      ],
      "execution_count": null,
      "outputs": []
    },
    {
      "cell_type": "code",
      "metadata": {
        "id": "JxQW7wHizQxG"
      },
      "source": [
        "numeros = [10,51,2,18,4,31,12,5]\n",
        "mergeSort(numeros)"
      ],
      "execution_count": null,
      "outputs": []
    }
  ]
}