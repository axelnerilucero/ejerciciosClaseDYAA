{
  "nbformat": 4,
  "nbformat_minor": 0,
  "metadata": {
    "colab": {
      "name": "Tarea8DYAA.ipynb",
      "provenance": [],
      "collapsed_sections": [],
      "authorship_tag": "ABX9TyOD9+EZhzxM+sv6vldi9Yzs",
      "include_colab_link": true
    },
    "kernelspec": {
      "name": "python3",
      "display_name": "Python 3"
    },
    "language_info": {
      "name": "python"
    }
  },
  "cells": [
    {
      "cell_type": "markdown",
      "metadata": {
        "id": "view-in-github",
        "colab_type": "text"
      },
      "source": [
        "<a href=\"https://colab.research.google.com/github/axelnerilucero/ejerciciosClaseDYAA/blob/main/Tarea8DYAA.ipynb\" target=\"_parent\"><img src=\"https://colab.research.google.com/assets/colab-badge.svg\" alt=\"Open In Colab\"/></a>"
      ]
    },
    {
      "cell_type": "markdown",
      "metadata": {
        "id": "nI4sQoq80Vwh"
      },
      "source": [
        "#**Esta primer celda corresponde a la tarea y muestra el mensaje legible. **\n",
        "#####Las demas celdas son donde practique para poder llegar al resultado"
      ]
    },
    {
      "cell_type": "code",
      "metadata": {
        "colab": {
          "base_uri": "https://localhost:8080/"
        },
        "id": "AoDEinuctyjU",
        "outputId": "ebded93a-ace5-4fa1-bb8d-8074a50fd13d"
      },
      "source": [
        "import re\n",
        "# Solamente decifrar {encripatdo esta mal dicho}\n",
        "cifrado ='zg gzhv lpz vidhv v gv pidqzmndyvy ivxdjivg, kjm hd mvuv cvwgvmá zg znkímdop, mzqzgv gv qjxvxdói cphviínodxv xji gv lpz apz xjixzwdyv. zg vpojm yz znov xégzwmz amvnz, ejné qvnxjixzgjn, vnphdó gv mzxojmív zi 1920, zi piv ékjxv zi lpz gvn znkzmviuvn yz gv mzqjgpxdói vúi znovwvi qdqvn, cvwív piv bmvi aé zi gv kvomdv t zg áidhj mzyziojm nz zsoziyív zi zg vhwdzioz.'\n",
        "alfabeto = 'abcdefghijklmnopqrstuvwxyz'\n",
        "llave = 5\n",
        "longitud = len(cifrado)\n",
        "palabras = []\n",
        "frases = []\n",
        "for llave in range(1,len(alfabeto)):\n",
        "  for i in range(len(cifrado)):\n",
        "    if (cifrado[i] in alfabeto):\n",
        "      #print(alfabeto.index(cifrado[i]), end=\" \")\n",
        "      index = alfabeto.index(cifrado[i])\n",
        "      num = alfabeto[(index + llave) %26]\n",
        "      palabras.append(num)\n",
        "    else:\n",
        "      num2 = cifrado[i]\n",
        "      palabras.append(num2)\n",
        "\n",
        "mensaje = lambda palabras, longitud : [palabras[i:i+longitud] for i in range(0, len(palabras), longitud)]\n",
        "listaaux = mensaje(palabras, longitud)\n",
        "\n",
        "for i in listaaux:\n",
        "    frase = \"\".join(i)\n",
        "    frases.append(frase)\n",
        "\n",
        "def consonantes_juntas(lista, juntas):\n",
        "  tres = juntas * \"[bcdfghjklmnpqrstvwxyz]\"\n",
        "    \n",
        "  for frase in lista:\n",
        "    if re.search(tres, frase, re.IGNORECASE):\n",
        "      pass\n",
        "    else:\n",
        "      print(frase)\n",
        "consonantes_juntas(frases,3)\n"
      ],
      "execution_count": 81,
      "outputs": [
        {
          "output_type": "stream",
          "name": "stdout",
          "text": [
            "el lema que anima a la universidad nacional, por mi raza hablará el espíritu, revela la vocación humanística con la que fue concebida. el autor de esta célebre frase, josé vasconcelos, asumió la rectoría en 1920, en una época en que las esperanzas de la revolución aún estaban vivas, había una gran fé en la patria y el ánimo redentor se extendía en el ambiente.\n"
          ]
        }
      ]
    },
    {
      "cell_type": "code",
      "metadata": {
        "colab": {
          "base_uri": "https://localhost:8080/"
        },
        "id": "knPhOzcETE5W",
        "outputId": "be308292-365d-45e0-de6b-051c7addbe61"
      },
      "source": [
        "import re\n",
        "def consonantes_juntas(lista, juntas):\n",
        "  tres = juntas * \"[bcdfghjklmnpqrstvwxyz]\"\n",
        "    \n",
        "  for frase in lista:\n",
        "    if re.search(tres, frase, re.IGNORECASE):\n",
        "      pass\n",
        "    else:\n",
        "      print(frase)\n",
        "            \n",
        "consonantes_juntas(['hola que tal cccmotas ttt', 'ttt aeiou ppp', 'pppppppvieira', 'colores', 'GUAU'], 3)"
      ],
      "execution_count": 73,
      "outputs": [
        {
          "output_type": "stream",
          "name": "stdout",
          "text": [
            "colores\n",
            "GUAU\n"
          ]
        }
      ]
    },
    {
      "cell_type": "code",
      "metadata": {
        "colab": {
          "base_uri": "https://localhost:8080/"
        },
        "id": "hTySM907h9WJ",
        "outputId": "65979fd1-a3c0-40eb-d14b-c3f7128b792c"
      },
      "source": [
        "palabras = ['1',' ','0','1','1','.','1','1','0','1','1','1']\n",
        "variables = ['t','r','s']\n",
        "separacion = len(variables)\n",
        "output = []\n",
        "lista2 = []\n",
        "lista = lambda palabras, separacion : [palabras[i:i+separacion] for i in range(0, len(palabras), separacion)]\n",
        "output = lista(palabras, separacion)\n",
        "for letra in output:\n",
        "  frase = ''.join(letra)\n",
        "  lista2.append(frase)\n",
        "print(lista2)\n"
      ],
      "execution_count": 66,
      "outputs": [
        {
          "output_type": "stream",
          "name": "stdout",
          "text": [
            "['1 0', '11.', '110', '111']\n"
          ]
        }
      ]
    }
  ]
}